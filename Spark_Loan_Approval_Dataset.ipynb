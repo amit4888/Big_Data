{
  "nbformat": 4,
  "nbformat_minor": 0,
  "metadata": {
    "colab": {
      "provenance": []
    },
    "kernelspec": {
      "name": "python3",
      "display_name": "Python 3"
    },
    "language_info": {
      "name": "python"
    }
  },
  "cells": [
    {
      "cell_type": "code",
      "source": [
        "import pyspark"
      ],
      "metadata": {
        "id": "ogEBoldAey3T"
      },
      "execution_count": null,
      "outputs": []
    },
    {
      "cell_type": "markdown",
      "source": [
        "# 1.Starting SparkSession"
      ],
      "metadata": {
        "id": "P5Lr_zgyhVj9"
      }
    },
    {
      "cell_type": "code",
      "source": [
        "# start spark session\n",
        "from pyspark.sql import SparkSession\n",
        "spark = SparkSession.builder.appName(\"pyspark_tutorial_part2\").getOrCreate()"
      ],
      "metadata": {
        "id": "KV3URQDfe65M"
      },
      "execution_count": null,
      "outputs": []
    },
    {
      "cell_type": "markdown",
      "source": [
        " # 2. Reading Big Data from Files"
      ],
      "metadata": {
        "id": "cHhnJWqBhus_"
      }
    },
    {
      "cell_type": "code",
      "source": [
        "# read the csv dataset\n",
        "df = spark.read.csv(\"/content/loan_approval_dataset.csv\", header=True, inferSchema=True)"
      ],
      "metadata": {
        "id": "MU9_ZFJ2e_2L"
      },
      "execution_count": null,
      "outputs": []
    },
    {
      "cell_type": "code",
      "source": [
        "df.show()"
      ],
      "metadata": {
        "colab": {
          "base_uri": "https://localhost:8080/"
        },
        "id": "tL_HTQAtfNHv",
        "outputId": "76a4b439-860f-4b11-b6a0-49a3995927d3"
      },
      "execution_count": null,
      "outputs": [
        {
          "output_type": "stream",
          "name": "stdout",
          "text": [
            "+-------+-----------------+-------------+--------------+-------------+------------+----------+------------+-------------------------+------------------------+--------------------+-----------------+------------+\n",
            "|loan_id| no_of_dependents|    education| self_employed| income_annum| loan_amount| loan_term| cibil_score| residential_assets_value| commercial_assets_value| luxury_assets_value| bank_asset_value| loan_status|\n",
            "+-------+-----------------+-------------+--------------+-------------+------------+----------+------------+-------------------------+------------------------+--------------------+-----------------+------------+\n",
            "|      1|                2|     Graduate|            No|      9600000|    29900000|        12|         778|                  2400000|                17600000|            22700000|          8000000|    Approved|\n",
            "|      2|                0| Not Graduate|           Yes|      4100000|    12200000|         8|         417|                  2700000|                 2200000|             8800000|          3300000|    Rejected|\n",
            "|      3|                3|     Graduate|            No|      9100000|    29700000|        20|         506|                  7100000|                 4500000|            33300000|         12800000|    Rejected|\n",
            "|      4|                3|     Graduate|            No|      8200000|    30700000|         8|         467|                 18200000|                 3300000|            23300000|          7900000|    Rejected|\n",
            "|      5|                5| Not Graduate|           Yes|      9800000|    24200000|        20|         382|                 12400000|                 8200000|            29400000|          5000000|    Rejected|\n",
            "|      6|                0|     Graduate|           Yes|      4800000|    13500000|        10|         319|                  6800000|                 8300000|            13700000|          5100000|    Rejected|\n",
            "|      7|                5|     Graduate|            No|      8700000|    33000000|         4|         678|                 22500000|                14800000|            29200000|          4300000|    Approved|\n",
            "|      8|                2|     Graduate|           Yes|      5700000|    15000000|        20|         382|                 13200000|                 5700000|            11800000|          6000000|    Rejected|\n",
            "|      9|                0|     Graduate|           Yes|       800000|     2200000|        20|         782|                  1300000|                  800000|             2800000|           600000|    Approved|\n",
            "|     10|                5| Not Graduate|            No|      1100000|     4300000|        10|         388|                  3200000|                 1400000|             3300000|          1600000|    Rejected|\n",
            "|     11|                4|     Graduate|           Yes|      2900000|    11200000|         2|         547|                  8100000|                 4700000|             9500000|          3100000|    Approved|\n",
            "|     12|                2| Not Graduate|           Yes|      6700000|    22700000|        18|         538|                 15300000|                 5800000|            20400000|          6400000|    Rejected|\n",
            "|     13|                3| Not Graduate|           Yes|      5000000|    11600000|        16|         311|                  6400000|                 9600000|            14600000|          4300000|    Rejected|\n",
            "|     14|                2|     Graduate|           Yes|      9100000|    31500000|        14|         679|                 10800000|                16600000|            20900000|          5000000|    Approved|\n",
            "|     15|                1| Not Graduate|            No|      1900000|     7400000|         6|         469|                  1900000|                 1200000|             5900000|          1900000|    Rejected|\n",
            "|     16|                5| Not Graduate|            No|      4700000|    10700000|        10|         794|                  5700000|                 3900000|            16400000|          4400000|    Approved|\n",
            "|     17|                2|     Graduate|           Yes|       500000|     1600000|         4|         663|                  1300000|                  100000|             1300000|           700000|    Approved|\n",
            "|     18|                4| Not Graduate|           Yes|      2900000|     9400000|        14|         780|                  2900000|                 2800000|             6700000|          4300000|    Approved|\n",
            "|     19|                2|     Graduate|            No|      2700000|    10300000|        10|         736|                  1000000|                       0|             6200000|          3300000|    Approved|\n",
            "|     20|                5|     Graduate|            No|      6300000|    14600000|        12|         652|                 10300000|                 3500000|            23500000|          5900000|    Approved|\n",
            "+-------+-----------------+-------------+--------------+-------------+------------+----------+------------+-------------------------+------------------------+--------------------+-----------------+------------+\n",
            "only showing top 20 rows\n",
            "\n"
          ]
        }
      ]
    },
    {
      "cell_type": "markdown",
      "source": [
        "# 3. Inspecting and Understanding Data"
      ],
      "metadata": {
        "id": "pSAyv1wTgOXP"
      }
    },
    {
      "cell_type": "code",
      "source": [
        "df.show(5)         # Shows top 5 rows\n",
        "df.printSchema()   # Prints the data schema\n",
        "df.columns         # Returns list of column names"
      ],
      "metadata": {
        "colab": {
          "base_uri": "https://localhost:8080/"
        },
        "id": "A7S4dxXRjNVk",
        "outputId": "bd94bec0-1104-4379-b3a4-85e68d65c09f"
      },
      "execution_count": null,
      "outputs": [
        {
          "output_type": "stream",
          "name": "stdout",
          "text": [
            "+-------+-----------------+-------------+--------------+-------------+------------+----------+------------+-------------------------+------------------------+--------------------+-----------------+------------+\n",
            "|loan_id| no_of_dependents|    education| self_employed| income_annum| loan_amount| loan_term| cibil_score| residential_assets_value| commercial_assets_value| luxury_assets_value| bank_asset_value| loan_status|\n",
            "+-------+-----------------+-------------+--------------+-------------+------------+----------+------------+-------------------------+------------------------+--------------------+-----------------+------------+\n",
            "|      1|                2|     Graduate|            No|      9600000|    29900000|        12|         778|                  2400000|                17600000|            22700000|          8000000|    Approved|\n",
            "|      2|                0| Not Graduate|           Yes|      4100000|    12200000|         8|         417|                  2700000|                 2200000|             8800000|          3300000|    Rejected|\n",
            "|      3|                3|     Graduate|            No|      9100000|    29700000|        20|         506|                  7100000|                 4500000|            33300000|         12800000|    Rejected|\n",
            "|      4|                3|     Graduate|            No|      8200000|    30700000|         8|         467|                 18200000|                 3300000|            23300000|          7900000|    Rejected|\n",
            "|      5|                5| Not Graduate|           Yes|      9800000|    24200000|        20|         382|                 12400000|                 8200000|            29400000|          5000000|    Rejected|\n",
            "+-------+-----------------+-------------+--------------+-------------+------------+----------+------------+-------------------------+------------------------+--------------------+-----------------+------------+\n",
            "only showing top 5 rows\n",
            "\n",
            "root\n",
            " |-- loan_id: integer (nullable = true)\n",
            " |--  no_of_dependents: integer (nullable = true)\n",
            " |--  education: string (nullable = true)\n",
            " |--  self_employed: string (nullable = true)\n",
            " |--  income_annum: integer (nullable = true)\n",
            " |--  loan_amount: integer (nullable = true)\n",
            " |--  loan_term: integer (nullable = true)\n",
            " |--  cibil_score: integer (nullable = true)\n",
            " |--  residential_assets_value: integer (nullable = true)\n",
            " |--  commercial_assets_value: integer (nullable = true)\n",
            " |--  luxury_assets_value: integer (nullable = true)\n",
            " |--  bank_asset_value: integer (nullable = true)\n",
            " |--  loan_status: string (nullable = true)\n",
            "\n"
          ]
        },
        {
          "output_type": "execute_result",
          "data": {
            "text/plain": [
              "['loan_id',\n",
              " ' no_of_dependents',\n",
              " ' education',\n",
              " ' self_employed',\n",
              " ' income_annum',\n",
              " ' loan_amount',\n",
              " ' loan_term',\n",
              " ' cibil_score',\n",
              " ' residential_assets_value',\n",
              " ' commercial_assets_value',\n",
              " ' luxury_assets_value',\n",
              " ' bank_asset_value',\n",
              " ' loan_status']"
            ]
          },
          "metadata": {},
          "execution_count": 15
        }
      ]
    },
    {
      "cell_type": "code",
      "source": [
        "# # describe(): basic stats like count, mean, stddev, min, max\n",
        "df.describe().show()"
      ],
      "metadata": {
        "colab": {
          "base_uri": "https://localhost:8080/"
        },
        "id": "YvLVuiYAkCx5",
        "outputId": "16eb2ceb-855d-4b5f-9a4a-7a9a3bf9e634"
      },
      "execution_count": null,
      "outputs": [
        {
          "output_type": "stream",
          "name": "stdout",
          "text": [
            "+-------+------------------+------------------+-------------+--------------+------------------+--------------------+------------------+------------------+-------------------------+------------------------+--------------------+-----------------+------------+\n",
            "|summary|           loan_id|  no_of_dependents|    education| self_employed|      income_annum|         loan_amount|         loan_term|       cibil_score| residential_assets_value| commercial_assets_value| luxury_assets_value| bank_asset_value| loan_status|\n",
            "+-------+------------------+------------------+-------------+--------------+------------------+--------------------+------------------+------------------+-------------------------+------------------------+--------------------+-----------------+------------+\n",
            "|  count|              4269|              4269|         4269|          4269|              4269|                4269|              4269|              4269|                     4269|                    4269|                4269|             4269|        4269|\n",
            "|   mean|            2135.0|2.4987116420707425|         NULL|          NULL|5059123.9166081045|1.5133450456781447E7|10.900445069102835| 599.9360505973295|        7472616.537830873|         4973155.3056922|1.5126305926446475E7|4976692.433825252|        NULL|\n",
            "| stddev|1232.4984787008866| 1.695910160711122|         NULL|          NULL|2806839.8318184675|   9043362.984842855|  5.70918727924526|172.43040073575858|        6503636.587664098|       4388966.089638462|    9103753.66525649|3250185.305695706|        NULL|\n",
            "|    min|                 1|                 0|     Graduate|            No|            200000|              300000|                 2|               300|                  -100000|                       0|              300000|                0|    Approved|\n",
            "|    max|              4269|                 5| Not Graduate|           Yes|           9900000|            39500000|                20|               900|                 29100000|                19400000|            39200000|         14700000|    Rejected|\n",
            "+-------+------------------+------------------+-------------+--------------+------------------+--------------------+------------------+------------------+-------------------------+------------------------+--------------------+-----------------+------------+\n",
            "\n"
          ]
        }
      ]
    },
    {
      "cell_type": "code",
      "source": [
        "# describe(): basic stats | summary(): extended stats with percentiles\n",
        "df.summary().show()"
      ],
      "metadata": {
        "colab": {
          "base_uri": "https://localhost:8080/"
        },
        "id": "qUA_pyCmtOB-",
        "outputId": "feca4797-c9d2-4dab-e17e-dbd63f21be3e"
      },
      "execution_count": null,
      "outputs": [
        {
          "output_type": "stream",
          "name": "stdout",
          "text": [
            "+-------+------------------+------------------+-------------+--------------+------------------+--------------------+------------------+------------------+-------------------------+------------------------+--------------------+-----------------+------------+\n",
            "|summary|           loan_id|  no_of_dependents|    education| self_employed|      income_annum|         loan_amount|         loan_term|       cibil_score| residential_assets_value| commercial_assets_value| luxury_assets_value| bank_asset_value| loan_status|\n",
            "+-------+------------------+------------------+-------------+--------------+------------------+--------------------+------------------+------------------+-------------------------+------------------------+--------------------+-----------------+------------+\n",
            "|  count|              4269|              4269|         4269|          4269|              4269|                4269|              4269|              4269|                     4269|                    4269|                4269|             4269|        4269|\n",
            "|   mean|            2135.0|2.4987116420707425|         NULL|          NULL|5059123.9166081045|1.5133450456781447E7|10.900445069102835| 599.9360505973295|        7472616.537830873|         4973155.3056922|1.5126305926446475E7|4976692.433825252|        NULL|\n",
            "| stddev|1232.4984787008866| 1.695910160711122|         NULL|          NULL|2806839.8318184675|   9043362.984842855|  5.70918727924526|172.43040073575858|        6503636.587664098|       4388966.089638462|    9103753.66525649|3250185.305695706|        NULL|\n",
            "|    min|                 1|                 0|     Graduate|            No|            200000|              300000|                 2|               300|                  -100000|                       0|              300000|                0|    Approved|\n",
            "|    25%|              1068|                 1|         NULL|          NULL|           2700000|             7700000|                 6|               453|                  2200000|                 1300000|             7500000|          2300000|        NULL|\n",
            "|    50%|              2135|                 3|         NULL|          NULL|           5100000|            14500000|                10|               600|                  5600000|                 3700000|            14600000|          4600000|        NULL|\n",
            "|    75%|              3202|                 4|         NULL|          NULL|           7500000|            21500000|                16|               748|                 11300000|                 7600000|            21700000|          7100000|        NULL|\n",
            "|    max|              4269|                 5| Not Graduate|           Yes|           9900000|            39500000|                20|               900|                 29100000|                19400000|            39200000|         14700000|    Rejected|\n",
            "+-------+------------------+------------------+-------------+--------------+------------------+--------------------+------------------+------------------+-------------------------+------------------------+--------------------+-----------------+------------+\n",
            "\n"
          ]
        }
      ]
    },
    {
      "cell_type": "markdown",
      "source": [
        "# 4.Data Filtering & Selection"
      ],
      "metadata": {
        "id": "nTUHTNQGtbQW"
      }
    },
    {
      "cell_type": "code",
      "source": [
        "# Remove leading/trailing spaces from all column names\n",
        "df = df.toDF(*[c.strip() for c in df.columns])"
      ],
      "metadata": {
        "id": "y8MjMY6KzC2l"
      },
      "execution_count": null,
      "outputs": []
    },
    {
      "cell_type": "code",
      "source": [
        "# Show only selected columns\n",
        "df.select(\"loan_amount\",\"loan_term\").show()\n",
        "\n",
        "# Filter rows where age > 30 using column expression\n",
        "df.filter(df[\"loan_amount\"] > 100000).show()\n",
        "\n",
        "# Filter rows using SQL-style string expression\n",
        "df.where(\"loan_term > 6 AND loan_amount > 100000\").show()"
      ],
      "metadata": {
        "colab": {
          "base_uri": "https://localhost:8080/"
        },
        "id": "dPuQFnN2tkaS",
        "outputId": "0fc1201d-a751-41e3-afac-2f7aba919eb3"
      },
      "execution_count": null,
      "outputs": [
        {
          "output_type": "stream",
          "name": "stdout",
          "text": [
            "+-----------+---------+\n",
            "|loan_amount|loan_term|\n",
            "+-----------+---------+\n",
            "|   29900000|       12|\n",
            "|   12200000|        8|\n",
            "|   29700000|       20|\n",
            "|   30700000|        8|\n",
            "|   24200000|       20|\n",
            "|   13500000|       10|\n",
            "|   33000000|        4|\n",
            "|   15000000|       20|\n",
            "|    2200000|       20|\n",
            "|    4300000|       10|\n",
            "|   11200000|        2|\n",
            "|   22700000|       18|\n",
            "|   11600000|       16|\n",
            "|   31500000|       14|\n",
            "|    7400000|        6|\n",
            "|   10700000|       10|\n",
            "|    1600000|        4|\n",
            "|    9400000|       14|\n",
            "|   10300000|       10|\n",
            "|   14600000|       12|\n",
            "+-----------+---------+\n",
            "only showing top 20 rows\n",
            "\n",
            "+-------+----------------+-------------+-------------+------------+-----------+---------+-----------+------------------------+-----------------------+-------------------+----------------+-----------+\n",
            "|loan_id|no_of_dependents|    education|self_employed|income_annum|loan_amount|loan_term|cibil_score|residential_assets_value|commercial_assets_value|luxury_assets_value|bank_asset_value|loan_status|\n",
            "+-------+----------------+-------------+-------------+------------+-----------+---------+-----------+------------------------+-----------------------+-------------------+----------------+-----------+\n",
            "|      1|               2|     Graduate|           No|     9600000|   29900000|       12|        778|                 2400000|               17600000|           22700000|         8000000|   Approved|\n",
            "|      2|               0| Not Graduate|          Yes|     4100000|   12200000|        8|        417|                 2700000|                2200000|            8800000|         3300000|   Rejected|\n",
            "|      3|               3|     Graduate|           No|     9100000|   29700000|       20|        506|                 7100000|                4500000|           33300000|        12800000|   Rejected|\n",
            "|      4|               3|     Graduate|           No|     8200000|   30700000|        8|        467|                18200000|                3300000|           23300000|         7900000|   Rejected|\n",
            "|      5|               5| Not Graduate|          Yes|     9800000|   24200000|       20|        382|                12400000|                8200000|           29400000|         5000000|   Rejected|\n",
            "|      6|               0|     Graduate|          Yes|     4800000|   13500000|       10|        319|                 6800000|                8300000|           13700000|         5100000|   Rejected|\n",
            "|      7|               5|     Graduate|           No|     8700000|   33000000|        4|        678|                22500000|               14800000|           29200000|         4300000|   Approved|\n",
            "|      8|               2|     Graduate|          Yes|     5700000|   15000000|       20|        382|                13200000|                5700000|           11800000|         6000000|   Rejected|\n",
            "|      9|               0|     Graduate|          Yes|      800000|    2200000|       20|        782|                 1300000|                 800000|            2800000|          600000|   Approved|\n",
            "|     10|               5| Not Graduate|           No|     1100000|    4300000|       10|        388|                 3200000|                1400000|            3300000|         1600000|   Rejected|\n",
            "|     11|               4|     Graduate|          Yes|     2900000|   11200000|        2|        547|                 8100000|                4700000|            9500000|         3100000|   Approved|\n",
            "|     12|               2| Not Graduate|          Yes|     6700000|   22700000|       18|        538|                15300000|                5800000|           20400000|         6400000|   Rejected|\n",
            "|     13|               3| Not Graduate|          Yes|     5000000|   11600000|       16|        311|                 6400000|                9600000|           14600000|         4300000|   Rejected|\n",
            "|     14|               2|     Graduate|          Yes|     9100000|   31500000|       14|        679|                10800000|               16600000|           20900000|         5000000|   Approved|\n",
            "|     15|               1| Not Graduate|           No|     1900000|    7400000|        6|        469|                 1900000|                1200000|            5900000|         1900000|   Rejected|\n",
            "|     16|               5| Not Graduate|           No|     4700000|   10700000|       10|        794|                 5700000|                3900000|           16400000|         4400000|   Approved|\n",
            "|     17|               2|     Graduate|          Yes|      500000|    1600000|        4|        663|                 1300000|                 100000|            1300000|          700000|   Approved|\n",
            "|     18|               4| Not Graduate|          Yes|     2900000|    9400000|       14|        780|                 2900000|                2800000|            6700000|         4300000|   Approved|\n",
            "|     19|               2|     Graduate|           No|     2700000|   10300000|       10|        736|                 1000000|                      0|            6200000|         3300000|   Approved|\n",
            "|     20|               5|     Graduate|           No|     6300000|   14600000|       12|        652|                10300000|                3500000|           23500000|         5900000|   Approved|\n",
            "+-------+----------------+-------------+-------------+------------+-----------+---------+-----------+------------------------+-----------------------+-------------------+----------------+-----------+\n",
            "only showing top 20 rows\n",
            "\n",
            "+-------+----------------+-------------+-------------+------------+-----------+---------+-----------+------------------------+-----------------------+-------------------+----------------+-----------+\n",
            "|loan_id|no_of_dependents|    education|self_employed|income_annum|loan_amount|loan_term|cibil_score|residential_assets_value|commercial_assets_value|luxury_assets_value|bank_asset_value|loan_status|\n",
            "+-------+----------------+-------------+-------------+------------+-----------+---------+-----------+------------------------+-----------------------+-------------------+----------------+-----------+\n",
            "|      1|               2|     Graduate|           No|     9600000|   29900000|       12|        778|                 2400000|               17600000|           22700000|         8000000|   Approved|\n",
            "|      2|               0| Not Graduate|          Yes|     4100000|   12200000|        8|        417|                 2700000|                2200000|            8800000|         3300000|   Rejected|\n",
            "|      3|               3|     Graduate|           No|     9100000|   29700000|       20|        506|                 7100000|                4500000|           33300000|        12800000|   Rejected|\n",
            "|      4|               3|     Graduate|           No|     8200000|   30700000|        8|        467|                18200000|                3300000|           23300000|         7900000|   Rejected|\n",
            "|      5|               5| Not Graduate|          Yes|     9800000|   24200000|       20|        382|                12400000|                8200000|           29400000|         5000000|   Rejected|\n",
            "|      6|               0|     Graduate|          Yes|     4800000|   13500000|       10|        319|                 6800000|                8300000|           13700000|         5100000|   Rejected|\n",
            "|      8|               2|     Graduate|          Yes|     5700000|   15000000|       20|        382|                13200000|                5700000|           11800000|         6000000|   Rejected|\n",
            "|      9|               0|     Graduate|          Yes|      800000|    2200000|       20|        782|                 1300000|                 800000|            2800000|          600000|   Approved|\n",
            "|     10|               5| Not Graduate|           No|     1100000|    4300000|       10|        388|                 3200000|                1400000|            3300000|         1600000|   Rejected|\n",
            "|     12|               2| Not Graduate|          Yes|     6700000|   22700000|       18|        538|                15300000|                5800000|           20400000|         6400000|   Rejected|\n",
            "|     13|               3| Not Graduate|          Yes|     5000000|   11600000|       16|        311|                 6400000|                9600000|           14600000|         4300000|   Rejected|\n",
            "|     14|               2|     Graduate|          Yes|     9100000|   31500000|       14|        679|                10800000|               16600000|           20900000|         5000000|   Approved|\n",
            "|     16|               5| Not Graduate|           No|     4700000|   10700000|       10|        794|                 5700000|                3900000|           16400000|         4400000|   Approved|\n",
            "|     18|               4| Not Graduate|          Yes|     2900000|    9400000|       14|        780|                 2900000|                2800000|            6700000|         4300000|   Approved|\n",
            "|     19|               2|     Graduate|           No|     2700000|   10300000|       10|        736|                 1000000|                      0|            6200000|         3300000|   Approved|\n",
            "|     20|               5|     Graduate|           No|     6300000|   14600000|       12|        652|                10300000|                3500000|           23500000|         5900000|   Approved|\n",
            "|     21|               2|     Graduate|           No|     5000000|   19400000|       12|        315|                 9500000|                1600000|           18000000|         6100000|   Rejected|\n",
            "|     22|               4|     Graduate|           No|     5800000|   14000000|       16|        530|                 3800000|               11300000|           22200000|         5400000|   Rejected|\n",
            "|     23|               4|     Graduate|          Yes|     6500000|   25700000|       18|        311|                13100000|                1700000|           19500000|         8500000|   Rejected|\n",
            "|     25|               0| Not Graduate|           No|     4900000|    9800000|       16|        324|                 3800000|                8700000|           10000000|         3300000|   Rejected|\n",
            "+-------+----------------+-------------+-------------+------------+-----------+---------+-----------+------------------------+-----------------------+-------------------+----------------+-----------+\n",
            "only showing top 20 rows\n",
            "\n"
          ]
        }
      ]
    },
    {
      "cell_type": "markdown",
      "source": [
        "# 5.Group By and Aggregate"
      ],
      "metadata": {
        "id": "6M_C6FALvlFr"
      }
    },
    {
      "cell_type": "code",
      "source": [
        "df.groupBy(\"self_employed\").agg({\"income_annum\": \"avg\"}).show()"
      ],
      "metadata": {
        "colab": {
          "base_uri": "https://localhost:8080/"
        },
        "id": "BhVLL-dH1psn",
        "outputId": "2c2c2d82-bee7-4934-de59-5267c8ed68a8"
      },
      "execution_count": null,
      "outputs": [
        {
          "output_type": "stream",
          "name": "stdout",
          "text": [
            "+-------------+-----------------+\n",
            "|self_employed|avg(income_annum)|\n",
            "+-------------+-----------------+\n",
            "|          Yes|5065720.930232558|\n",
            "|           No|5052430.391694196|\n",
            "+-------------+-----------------+\n",
            "\n"
          ]
        }
      ]
    },
    {
      "cell_type": "markdown",
      "source": [
        "# Better and more readable with functions:"
      ],
      "metadata": {
        "id": "XU2w2XeY2owI"
      }
    },
    {
      "cell_type": "code",
      "source": [
        "from pyspark.sql.functions import avg\n",
        "df.groupBy(\"self_employed\").agg(avg(\"income_annum\").alias(\"avg_salary\")).show()"
      ],
      "metadata": {
        "colab": {
          "base_uri": "https://localhost:8080/"
        },
        "id": "zDg-W2In2Cxd",
        "outputId": "2b7ae3af-939a-4b3e-d133-967dfae1e9cd"
      },
      "execution_count": null,
      "outputs": [
        {
          "output_type": "stream",
          "name": "stdout",
          "text": [
            "+-------------+-----------------+\n",
            "|self_employed|       avg_salary|\n",
            "+-------------+-----------------+\n",
            "|          Yes|5065720.930232558|\n",
            "|           No|5052430.391694196|\n",
            "+-------------+-----------------+\n",
            "\n"
          ]
        }
      ]
    },
    {
      "cell_type": "markdown",
      "source": [
        "# 6.Modifying Columns"
      ],
      "metadata": {
        "id": "if9SA6bn2dbt"
      }
    },
    {
      "cell_type": "markdown",
      "source": [
        "# Add a new column"
      ],
      "metadata": {
        "id": "0GANi7NI29e-"
      }
    },
    {
      "cell_type": "code",
      "source": [
        "from pyspark.sql.functions import col\n",
        "\n",
        "df = df.withColumn(\"income_annum\", col(\"income\"))"
      ],
      "metadata": {
        "id": "5Lg2J2id21uw"
      },
      "execution_count": null,
      "outputs": []
    },
    {
      "cell_type": "code",
      "source": [
        "df.show()"
      ],
      "metadata": {
        "colab": {
          "base_uri": "https://localhost:8080/"
        },
        "id": "8-hJ9Zqo3wLX",
        "outputId": "8e1b63be-cab9-4840-a4e5-b249db1f223a"
      },
      "execution_count": null,
      "outputs": [
        {
          "output_type": "stream",
          "name": "stdout",
          "text": [
            "+-------+----------------+-------------+-------------+------------+-----------+---------+-----------+------------------------+-----------------------+-------------------+----------------+-----------+-------+\n",
            "|loan_id|no_of_dependents|    education|self_employed|income_annum|loan_amount|loan_term|cibil_score|residential_assets_value|commercial_assets_value|luxury_assets_value|bank_asset_value|loan_status| income|\n",
            "+-------+----------------+-------------+-------------+------------+-----------+---------+-----------+------------------------+-----------------------+-------------------+----------------+-----------+-------+\n",
            "|      1|               2|     Graduate|           No|     9600000|   29900000|       12|        778|                 2400000|               17600000|           22700000|         8000000|   Approved|9600000|\n",
            "|      2|               0| Not Graduate|          Yes|     4100000|   12200000|        8|        417|                 2700000|                2200000|            8800000|         3300000|   Rejected|4100000|\n",
            "|      3|               3|     Graduate|           No|     9100000|   29700000|       20|        506|                 7100000|                4500000|           33300000|        12800000|   Rejected|9100000|\n",
            "|      4|               3|     Graduate|           No|     8200000|   30700000|        8|        467|                18200000|                3300000|           23300000|         7900000|   Rejected|8200000|\n",
            "|      5|               5| Not Graduate|          Yes|     9800000|   24200000|       20|        382|                12400000|                8200000|           29400000|         5000000|   Rejected|9800000|\n",
            "|      6|               0|     Graduate|          Yes|     4800000|   13500000|       10|        319|                 6800000|                8300000|           13700000|         5100000|   Rejected|4800000|\n",
            "|      7|               5|     Graduate|           No|     8700000|   33000000|        4|        678|                22500000|               14800000|           29200000|         4300000|   Approved|8700000|\n",
            "|      8|               2|     Graduate|          Yes|     5700000|   15000000|       20|        382|                13200000|                5700000|           11800000|         6000000|   Rejected|5700000|\n",
            "|      9|               0|     Graduate|          Yes|      800000|    2200000|       20|        782|                 1300000|                 800000|            2800000|          600000|   Approved| 800000|\n",
            "|     10|               5| Not Graduate|           No|     1100000|    4300000|       10|        388|                 3200000|                1400000|            3300000|         1600000|   Rejected|1100000|\n",
            "|     11|               4|     Graduate|          Yes|     2900000|   11200000|        2|        547|                 8100000|                4700000|            9500000|         3100000|   Approved|2900000|\n",
            "|     12|               2| Not Graduate|          Yes|     6700000|   22700000|       18|        538|                15300000|                5800000|           20400000|         6400000|   Rejected|6700000|\n",
            "|     13|               3| Not Graduate|          Yes|     5000000|   11600000|       16|        311|                 6400000|                9600000|           14600000|         4300000|   Rejected|5000000|\n",
            "|     14|               2|     Graduate|          Yes|     9100000|   31500000|       14|        679|                10800000|               16600000|           20900000|         5000000|   Approved|9100000|\n",
            "|     15|               1| Not Graduate|           No|     1900000|    7400000|        6|        469|                 1900000|                1200000|            5900000|         1900000|   Rejected|1900000|\n",
            "|     16|               5| Not Graduate|           No|     4700000|   10700000|       10|        794|                 5700000|                3900000|           16400000|         4400000|   Approved|4700000|\n",
            "|     17|               2|     Graduate|          Yes|      500000|    1600000|        4|        663|                 1300000|                 100000|            1300000|          700000|   Approved| 500000|\n",
            "|     18|               4| Not Graduate|          Yes|     2900000|    9400000|       14|        780|                 2900000|                2800000|            6700000|         4300000|   Approved|2900000|\n",
            "|     19|               2|     Graduate|           No|     2700000|   10300000|       10|        736|                 1000000|                      0|            6200000|         3300000|   Approved|2700000|\n",
            "|     20|               5|     Graduate|           No|     6300000|   14600000|       12|        652|                10300000|                3500000|           23500000|         5900000|   Approved|6300000|\n",
            "+-------+----------------+-------------+-------------+------------+-----------+---------+-----------+------------------------+-----------------------+-------------------+----------------+-----------+-------+\n",
            "only showing top 20 rows\n",
            "\n"
          ]
        }
      ]
    },
    {
      "cell_type": "markdown",
      "source": [
        "# Rename a column"
      ],
      "metadata": {
        "id": "x7H3tCaM3w5L"
      }
    },
    {
      "cell_type": "code",
      "source": [
        "df = df.withColumnRenamed(\"income_annum\", \"salary\")"
      ],
      "metadata": {
        "id": "Nx2u3FXh4PFM"
      },
      "execution_count": null,
      "outputs": []
    },
    {
      "cell_type": "code",
      "source": [
        "df.show()"
      ],
      "metadata": {
        "colab": {
          "base_uri": "https://localhost:8080/"
        },
        "id": "B8gPYH3H4ZM9",
        "outputId": "f7e8646e-22cd-490a-bc3b-96ef55469e7a"
      },
      "execution_count": null,
      "outputs": [
        {
          "output_type": "stream",
          "name": "stdout",
          "text": [
            "+-------+----------------+-------------+-------------+-------+-----------+---------+-----------+------------------------+-----------------------+-------------------+----------------+-----------+-------+\n",
            "|loan_id|no_of_dependents|    education|self_employed| salary|loan_amount|loan_term|cibil_score|residential_assets_value|commercial_assets_value|luxury_assets_value|bank_asset_value|loan_status| income|\n",
            "+-------+----------------+-------------+-------------+-------+-----------+---------+-----------+------------------------+-----------------------+-------------------+----------------+-----------+-------+\n",
            "|      1|               2|     Graduate|           No|9600000|   29900000|       12|        778|                 2400000|               17600000|           22700000|         8000000|   Approved|9600000|\n",
            "|      2|               0| Not Graduate|          Yes|4100000|   12200000|        8|        417|                 2700000|                2200000|            8800000|         3300000|   Rejected|4100000|\n",
            "|      3|               3|     Graduate|           No|9100000|   29700000|       20|        506|                 7100000|                4500000|           33300000|        12800000|   Rejected|9100000|\n",
            "|      4|               3|     Graduate|           No|8200000|   30700000|        8|        467|                18200000|                3300000|           23300000|         7900000|   Rejected|8200000|\n",
            "|      5|               5| Not Graduate|          Yes|9800000|   24200000|       20|        382|                12400000|                8200000|           29400000|         5000000|   Rejected|9800000|\n",
            "|      6|               0|     Graduate|          Yes|4800000|   13500000|       10|        319|                 6800000|                8300000|           13700000|         5100000|   Rejected|4800000|\n",
            "|      7|               5|     Graduate|           No|8700000|   33000000|        4|        678|                22500000|               14800000|           29200000|         4300000|   Approved|8700000|\n",
            "|      8|               2|     Graduate|          Yes|5700000|   15000000|       20|        382|                13200000|                5700000|           11800000|         6000000|   Rejected|5700000|\n",
            "|      9|               0|     Graduate|          Yes| 800000|    2200000|       20|        782|                 1300000|                 800000|            2800000|          600000|   Approved| 800000|\n",
            "|     10|               5| Not Graduate|           No|1100000|    4300000|       10|        388|                 3200000|                1400000|            3300000|         1600000|   Rejected|1100000|\n",
            "|     11|               4|     Graduate|          Yes|2900000|   11200000|        2|        547|                 8100000|                4700000|            9500000|         3100000|   Approved|2900000|\n",
            "|     12|               2| Not Graduate|          Yes|6700000|   22700000|       18|        538|                15300000|                5800000|           20400000|         6400000|   Rejected|6700000|\n",
            "|     13|               3| Not Graduate|          Yes|5000000|   11600000|       16|        311|                 6400000|                9600000|           14600000|         4300000|   Rejected|5000000|\n",
            "|     14|               2|     Graduate|          Yes|9100000|   31500000|       14|        679|                10800000|               16600000|           20900000|         5000000|   Approved|9100000|\n",
            "|     15|               1| Not Graduate|           No|1900000|    7400000|        6|        469|                 1900000|                1200000|            5900000|         1900000|   Rejected|1900000|\n",
            "|     16|               5| Not Graduate|           No|4700000|   10700000|       10|        794|                 5700000|                3900000|           16400000|         4400000|   Approved|4700000|\n",
            "|     17|               2|     Graduate|          Yes| 500000|    1600000|        4|        663|                 1300000|                 100000|            1300000|          700000|   Approved| 500000|\n",
            "|     18|               4| Not Graduate|          Yes|2900000|    9400000|       14|        780|                 2900000|                2800000|            6700000|         4300000|   Approved|2900000|\n",
            "|     19|               2|     Graduate|           No|2700000|   10300000|       10|        736|                 1000000|                      0|            6200000|         3300000|   Approved|2700000|\n",
            "|     20|               5|     Graduate|           No|6300000|   14600000|       12|        652|                10300000|                3500000|           23500000|         5900000|   Approved|6300000|\n",
            "+-------+----------------+-------------+-------------+-------+-----------+---------+-----------+------------------------+-----------------------+-------------------+----------------+-----------+-------+\n",
            "only showing top 20 rows\n",
            "\n"
          ]
        }
      ]
    },
    {
      "cell_type": "markdown",
      "source": [
        "# Drop a column"
      ],
      "metadata": {
        "id": "f5VB_TXT4Zzy"
      }
    },
    {
      "cell_type": "code",
      "source": [
        "df = df.drop(\"income\")"
      ],
      "metadata": {
        "id": "8VjvVt2v4iu-"
      },
      "execution_count": null,
      "outputs": []
    },
    {
      "cell_type": "code",
      "source": [
        "df.show()"
      ],
      "metadata": {
        "colab": {
          "base_uri": "https://localhost:8080/"
        },
        "id": "jNQLoE1E4o9q",
        "outputId": "be057db8-16dd-4053-b65a-621d95de6bd5"
      },
      "execution_count": null,
      "outputs": [
        {
          "output_type": "stream",
          "name": "stdout",
          "text": [
            "+-------+----------------+-------------+-------------+-------+-----------+---------+-----------+------------------------+-----------------------+-------------------+----------------+-----------+\n",
            "|loan_id|no_of_dependents|    education|self_employed| salary|loan_amount|loan_term|cibil_score|residential_assets_value|commercial_assets_value|luxury_assets_value|bank_asset_value|loan_status|\n",
            "+-------+----------------+-------------+-------------+-------+-----------+---------+-----------+------------------------+-----------------------+-------------------+----------------+-----------+\n",
            "|      1|               2|     Graduate|           No|9600000|   29900000|       12|        778|                 2400000|               17600000|           22700000|         8000000|   Approved|\n",
            "|      2|               0| Not Graduate|          Yes|4100000|   12200000|        8|        417|                 2700000|                2200000|            8800000|         3300000|   Rejected|\n",
            "|      3|               3|     Graduate|           No|9100000|   29700000|       20|        506|                 7100000|                4500000|           33300000|        12800000|   Rejected|\n",
            "|      4|               3|     Graduate|           No|8200000|   30700000|        8|        467|                18200000|                3300000|           23300000|         7900000|   Rejected|\n",
            "|      5|               5| Not Graduate|          Yes|9800000|   24200000|       20|        382|                12400000|                8200000|           29400000|         5000000|   Rejected|\n",
            "|      6|               0|     Graduate|          Yes|4800000|   13500000|       10|        319|                 6800000|                8300000|           13700000|         5100000|   Rejected|\n",
            "|      7|               5|     Graduate|           No|8700000|   33000000|        4|        678|                22500000|               14800000|           29200000|         4300000|   Approved|\n",
            "|      8|               2|     Graduate|          Yes|5700000|   15000000|       20|        382|                13200000|                5700000|           11800000|         6000000|   Rejected|\n",
            "|      9|               0|     Graduate|          Yes| 800000|    2200000|       20|        782|                 1300000|                 800000|            2800000|          600000|   Approved|\n",
            "|     10|               5| Not Graduate|           No|1100000|    4300000|       10|        388|                 3200000|                1400000|            3300000|         1600000|   Rejected|\n",
            "|     11|               4|     Graduate|          Yes|2900000|   11200000|        2|        547|                 8100000|                4700000|            9500000|         3100000|   Approved|\n",
            "|     12|               2| Not Graduate|          Yes|6700000|   22700000|       18|        538|                15300000|                5800000|           20400000|         6400000|   Rejected|\n",
            "|     13|               3| Not Graduate|          Yes|5000000|   11600000|       16|        311|                 6400000|                9600000|           14600000|         4300000|   Rejected|\n",
            "|     14|               2|     Graduate|          Yes|9100000|   31500000|       14|        679|                10800000|               16600000|           20900000|         5000000|   Approved|\n",
            "|     15|               1| Not Graduate|           No|1900000|    7400000|        6|        469|                 1900000|                1200000|            5900000|         1900000|   Rejected|\n",
            "|     16|               5| Not Graduate|           No|4700000|   10700000|       10|        794|                 5700000|                3900000|           16400000|         4400000|   Approved|\n",
            "|     17|               2|     Graduate|          Yes| 500000|    1600000|        4|        663|                 1300000|                 100000|            1300000|          700000|   Approved|\n",
            "|     18|               4| Not Graduate|          Yes|2900000|    9400000|       14|        780|                 2900000|                2800000|            6700000|         4300000|   Approved|\n",
            "|     19|               2|     Graduate|           No|2700000|   10300000|       10|        736|                 1000000|                      0|            6200000|         3300000|   Approved|\n",
            "|     20|               5|     Graduate|           No|6300000|   14600000|       12|        652|                10300000|                3500000|           23500000|         5900000|   Approved|\n",
            "+-------+----------------+-------------+-------------+-------+-----------+---------+-----------+------------------------+-----------------------+-------------------+----------------+-----------+\n",
            "only showing top 20 rows\n",
            "\n"
          ]
        }
      ]
    },
    {
      "cell_type": "markdown",
      "source": [
        "# Join Operations (like SQL joins)\n",
        "# Combining data from two DataFrames"
      ],
      "metadata": {
        "id": "tzLkeBLC4sHb"
      }
    },
    {
      "cell_type": "code",
      "source": [
        "# Here,I am uploading 2nd dataset\n",
        "df2 = spark.read.csv(\"/content/student_depression_dataset.csv\", header=True, inferSchema=True)"
      ],
      "metadata": {
        "id": "o-6U3qHL49qJ"
      },
      "execution_count": null,
      "outputs": []
    },
    {
      "cell_type": "code",
      "source": [
        "df.join(df2, df.loan_id == df2.id, \"inner\").show()\n",
        "\n",
        "#\"inner\", \"left\", \"right\", \"outer\" are supported."
      ],
      "metadata": {
        "colab": {
          "base_uri": "https://localhost:8080/"
        },
        "id": "xzNdN69Y5qzO",
        "outputId": "4b8a2d37-9275-4bb4-8597-a3444386ebdb"
      },
      "execution_count": null,
      "outputs": [
        {
          "output_type": "stream",
          "name": "stdout",
          "text": [
            "+-------+----------------+-------------+-------------+-------+-----------+---------+-----------+------------------------+-----------------------+-------------------+----------------+-----------+---+------+----+-------------+----------+-----------------+-------------+----+------------------+----------------+-------------------+--------------+----------+-------------------------------------+----------------+----------------+--------------------------------+----------+\n",
            "|loan_id|no_of_dependents|    education|self_employed| salary|loan_amount|loan_term|cibil_score|residential_assets_value|commercial_assets_value|luxury_assets_value|bank_asset_value|loan_status| id|Gender| Age|         City|Profession|Academic Pressure|Work Pressure|CGPA|Study Satisfaction|Job Satisfaction|     Sleep Duration|Dietary Habits|    Degree|Have you ever had suicidal thoughts ?|Work/Study Hours|Financial Stress|Family History of Mental Illness|Depression|\n",
            "+-------+----------------+-------------+-------------+-------+-----------+---------+-----------+------------------------+-----------------------+-------------------+----------------+-----------+---+------+----+-------------+----------+-----------------+-------------+----+------------------+----------------+-------------------+--------------+----------+-------------------------------------+----------------+----------------+--------------------------------+----------+\n",
            "|      2|               0| Not Graduate|          Yes|4100000|   12200000|        8|        417|                 2700000|                2200000|            8800000|         3300000|   Rejected|  2|  Male|33.0|Visakhapatnam|   Student|              5.0|          0.0|8.97|               2.0|             0.0|        '5-6 hours'|       Healthy|   B.Pharm|                                  Yes|             3.0|             1.0|                              No|         1|\n",
            "|      8|               2|     Graduate|          Yes|5700000|   15000000|       20|        382|                13200000|                5700000|           11800000|         6000000|   Rejected|  8|Female|24.0|    Bangalore|   Student|              2.0|          0.0| 5.9|               5.0|             0.0|        '5-6 hours'|      Moderate|       BSc|                                   No|             3.0|             2.0|                             Yes|         0|\n",
            "|     26|               5| Not Graduate|           No|3100000|    9500000|       20|        514|                 7900000|                3100000|            6600000|         2600000|   Rejected| 26|  Male|31.0|     Srinagar|   Student|              3.0|          0.0|7.03|               5.0|             0.0|'Less than 5 hours'|       Healthy|        BA|                                   No|             9.0|             1.0|                             Yes|         0|\n",
            "|     30|               3| Not Graduate|          Yes|9000000|   31500000|       10|        850|                21800000|               12400000|           33700000|         8000000|   Approved| 30|Female|28.0|     Varanasi|   Student|              3.0|          0.0|5.59|               2.0|             0.0|        '7-8 hours'|      Moderate|       BCA|                                  Yes|             4.0|             5.0|                             Yes|         1|\n",
            "|     32|               2|     Graduate|           No|5700000|   12000000|        6|        363|                 3600000|                7400000|           21700000|         4300000|   Rejected| 32|Female|25.0|       Jaipur|   Student|              4.0|          0.0|8.13|               3.0|             0.0|        '5-6 hours'|      Moderate|    M.Tech|                                  Yes|             1.0|             1.0|                              No|         0|\n",
            "|     33|               1| Not Graduate|          Yes| 800000|    1600000|       10|        436|                  700000|                 200000|            2200000|         1000000|   Rejected| 33|  Male|29.0|         Pune|   Student|              2.0|          0.0| 5.7|               3.0|             0.0|'Less than 5 hours'|       Healthy|       PhD|                                   No|             4.0|             1.0|                              No|         0|\n",
            "|     52|               2|     Graduate|           No|8700000|   24700000|       10|        435|                 6800000|                3500000|           21800000|        11300000|   Rejected| 52|  Male|30.0|        Thane|   Student|              3.0|          0.0|9.54|               4.0|             0.0|        '7-8 hours'|       Healthy|       BSc|                                   No|             1.0|             2.0|                              No|         0|\n",
            "|     56|               5| Not Graduate|           No|6700000|   24500000|       12|        818|                 1200000|                5600000|           16300000|         6200000|   Approved| 56|Female|30.0|      Chennai|   Student|              2.0|          0.0|8.04|               4.0|             0.0|'Less than 5 hours'|     Unhealthy|'Class 12'|                                   No|             0.0|             1.0|                             Yes|         0|\n",
            "|     59|               1|     Graduate|           No|7400000|   18400000|       20|        421|                18500000|                9100000|           17500000|         4100000|   Rejected| 59|  Male|28.0|       Nagpur|   Student|              3.0|          0.0|9.79|               1.0|             0.0|        '7-8 hours'|      Moderate|      B.Ed|                                  Yes|            12.0|             3.0|                              No|         1|\n",
            "|     62|               3| Not Graduate|          Yes|9600000|   30500000|       18|        669|                 4700000|                1900000|           26500000|         9300000|   Approved| 62|  Male|31.0|       Nashik|   Student|              2.0|          0.0|8.38|               3.0|             0.0|'Less than 5 hours'|      Moderate|       LLB|                                  Yes|             2.0|             5.0|                              No|         1|\n",
            "|     83|               2| Not Graduate|          Yes|9900000|   21200000|       16|        363|                25500000|               11400000|           26600000|         6800000|   Rejected| 83|  Male|24.0|       Nagpur|   Student|              3.0|          0.0| 6.1|               3.0|             0.0|        '5-6 hours'|      Moderate|'Class 12'|                                  Yes|            11.0|             1.0|                             Yes|         1|\n",
            "|     91|               4|     Graduate|           No|5700000|   21100000|       18|        489|                  500000|                4300000|           12500000|         6000000|   Rejected| 91|  Male|33.0|     Vadodara|   Student|              3.0|          0.0|7.03|               4.0|             0.0|'Less than 5 hours'|       Healthy|        BE|                                  Yes|            10.0|             2.0|                             Yes|         0|\n",
            "|     94|               1|     Graduate|           No|1700000|    6400000|       10|        452|                  900000|                1100000|            5600000|         2100000|   Rejected| 94|  Male|27.0|       Kalyan|   Student|              5.0|          0.0|7.04|               1.0|             0.0|'Less than 5 hours'|      Moderate|    M.Tech|                                   No|            10.0|             1.0|                             Yes|         1|\n",
            "|    100|               0|     Graduate|           No|4400000|   10800000|       14|        463|                 2400000|                4800000|           13800000|         4700000|   Rejected|100|Female|19.0|       Rajkot|   Student|              2.0|          0.0|8.52|               4.0|             0.0|'Less than 5 hours'|     Unhealthy|'Class 12'|                                   No|             6.0|             2.0|                             Yes|         0|\n",
            "|    103|               2| Not Graduate|          Yes|4300000|   12900000|       20|        618|                11400000|                3600000|           11400000|         2400000|   Approved|103|Female|19.0|       Kalyan|   Student|              5.0|          0.0|5.64|               5.0|             0.0|'Less than 5 hours'|      Moderate|'Class 12'|                                  Yes|             4.0|             5.0|                             Yes|         1|\n",
            "|    106|               3| Not Graduate|          Yes|4200000|    9700000|       16|        841|                 7800000|                 300000|           16700000|         5100000|   Approved|106|  Male|29.0|     Srinagar|   Student|              3.0|          0.0|8.58|               3.0|             0.0|'More than 8 hours'|      Moderate|    M.Tech|                                  Yes|            10.0|             2.0|                             Yes|         1|\n",
            "|    120|               1| Not Graduate|          Yes|9100000|   32900000|        2|        717|                 2200000|                2000000|           23600000|         5900000|   Approved|120|  Male|25.0|       Nashik|   Student|              5.0|          0.0|6.51|               2.0|             0.0|'Less than 5 hours'|     Unhealthy|      M.Ed|                                  Yes|             2.0|             5.0|                             Yes|         1|\n",
            "|    132|               5|     Graduate|           No|8800000|   22600000|       10|        357|                 7900000|                8600000|           18200000|         4900000|   Rejected|132|Female|20.0|    Ahmedabad|   Student|              5.0|          0.0|7.25|               3.0|             0.0|        '5-6 hours'|       Healthy|'Class 12'|                                  Yes|            10.0|             3.0|                              No|         1|\n",
            "|    139|               3| Not Graduate|          Yes|2900000|    8500000|       12|        564|                 1000000|                3100000|            7500000|         1800000|   Approved|139|  Male|19.0|      Chennai|   Student|              2.0|          0.0|7.83|               2.0|             0.0|        '7-8 hours'|     Unhealthy|'Class 12'|                                   No|             6.0|             3.0|                              No|         0|\n",
            "|    145|               2|     Graduate|          Yes|8600000|   32100000|        6|        802|                 9400000|               16700000|           24500000|         9800000|   Approved|145|  Male|25.0|       Kalyan|   Student|              3.0|          0.0|9.93|               3.0|             0.0|        '5-6 hours'|      Moderate|      B.Ed|                                   No|             8.0|             3.0|                             Yes|         1|\n",
            "+-------+----------------+-------------+-------------+-------+-----------+---------+-----------+------------------------+-----------------------+-------------------+----------------+-----------+---+------+----+-------------+----------+-----------------+-------------+----+------------------+----------------+-------------------+--------------+----------+-------------------------------------+----------------+----------------+--------------------------------+----------+\n",
            "only showing top 20 rows\n",
            "\n"
          ]
        }
      ]
    },
    {
      "cell_type": "code",
      "source": [
        "df.join(df2, df.loan_id == df2.id, \"right\").show()"
      ],
      "metadata": {
        "colab": {
          "base_uri": "https://localhost:8080/"
        },
        "id": "Vk8zIHq4BSa7",
        "outputId": "62276bc5-f0f7-484f-d23b-bdf07b8661ed"
      },
      "execution_count": null,
      "outputs": [
        {
          "output_type": "stream",
          "name": "stdout",
          "text": [
            "+-------+----------------+-------------+-------------+-------+-----------+---------+-----------+------------------------+-----------------------+-------------------+----------------+-----------+---+------+----+-------------+----------+-----------------+-------------+----+------------------+----------------+-------------------+--------------+----------+-------------------------------------+----------------+----------------+--------------------------------+----------+\n",
            "|loan_id|no_of_dependents|    education|self_employed| salary|loan_amount|loan_term|cibil_score|residential_assets_value|commercial_assets_value|luxury_assets_value|bank_asset_value|loan_status| id|Gender| Age|         City|Profession|Academic Pressure|Work Pressure|CGPA|Study Satisfaction|Job Satisfaction|     Sleep Duration|Dietary Habits|    Degree|Have you ever had suicidal thoughts ?|Work/Study Hours|Financial Stress|Family History of Mental Illness|Depression|\n",
            "+-------+----------------+-------------+-------------+-------+-----------+---------+-----------+------------------------+-----------------------+-------------------+----------------+-----------+---+------+----+-------------+----------+-----------------+-------------+----+------------------+----------------+-------------------+--------------+----------+-------------------------------------+----------------+----------------+--------------------------------+----------+\n",
            "|      2|               0| Not Graduate|          Yes|4100000|   12200000|        8|        417|                 2700000|                2200000|            8800000|         3300000|   Rejected|  2|  Male|33.0|Visakhapatnam|   Student|              5.0|          0.0|8.97|               2.0|             0.0|        '5-6 hours'|       Healthy|   B.Pharm|                                  Yes|             3.0|             1.0|                              No|         1|\n",
            "|      8|               2|     Graduate|          Yes|5700000|   15000000|       20|        382|                13200000|                5700000|           11800000|         6000000|   Rejected|  8|Female|24.0|    Bangalore|   Student|              2.0|          0.0| 5.9|               5.0|             0.0|        '5-6 hours'|      Moderate|       BSc|                                   No|             3.0|             2.0|                             Yes|         0|\n",
            "|     26|               5| Not Graduate|           No|3100000|    9500000|       20|        514|                 7900000|                3100000|            6600000|         2600000|   Rejected| 26|  Male|31.0|     Srinagar|   Student|              3.0|          0.0|7.03|               5.0|             0.0|'Less than 5 hours'|       Healthy|        BA|                                   No|             9.0|             1.0|                             Yes|         0|\n",
            "|     30|               3| Not Graduate|          Yes|9000000|   31500000|       10|        850|                21800000|               12400000|           33700000|         8000000|   Approved| 30|Female|28.0|     Varanasi|   Student|              3.0|          0.0|5.59|               2.0|             0.0|        '7-8 hours'|      Moderate|       BCA|                                  Yes|             4.0|             5.0|                             Yes|         1|\n",
            "|     32|               2|     Graduate|           No|5700000|   12000000|        6|        363|                 3600000|                7400000|           21700000|         4300000|   Rejected| 32|Female|25.0|       Jaipur|   Student|              4.0|          0.0|8.13|               3.0|             0.0|        '5-6 hours'|      Moderate|    M.Tech|                                  Yes|             1.0|             1.0|                              No|         0|\n",
            "|     33|               1| Not Graduate|          Yes| 800000|    1600000|       10|        436|                  700000|                 200000|            2200000|         1000000|   Rejected| 33|  Male|29.0|         Pune|   Student|              2.0|          0.0| 5.7|               3.0|             0.0|'Less than 5 hours'|       Healthy|       PhD|                                   No|             4.0|             1.0|                              No|         0|\n",
            "|     52|               2|     Graduate|           No|8700000|   24700000|       10|        435|                 6800000|                3500000|           21800000|        11300000|   Rejected| 52|  Male|30.0|        Thane|   Student|              3.0|          0.0|9.54|               4.0|             0.0|        '7-8 hours'|       Healthy|       BSc|                                   No|             1.0|             2.0|                              No|         0|\n",
            "|     56|               5| Not Graduate|           No|6700000|   24500000|       12|        818|                 1200000|                5600000|           16300000|         6200000|   Approved| 56|Female|30.0|      Chennai|   Student|              2.0|          0.0|8.04|               4.0|             0.0|'Less than 5 hours'|     Unhealthy|'Class 12'|                                   No|             0.0|             1.0|                             Yes|         0|\n",
            "|     59|               1|     Graduate|           No|7400000|   18400000|       20|        421|                18500000|                9100000|           17500000|         4100000|   Rejected| 59|  Male|28.0|       Nagpur|   Student|              3.0|          0.0|9.79|               1.0|             0.0|        '7-8 hours'|      Moderate|      B.Ed|                                  Yes|            12.0|             3.0|                              No|         1|\n",
            "|     62|               3| Not Graduate|          Yes|9600000|   30500000|       18|        669|                 4700000|                1900000|           26500000|         9300000|   Approved| 62|  Male|31.0|       Nashik|   Student|              2.0|          0.0|8.38|               3.0|             0.0|'Less than 5 hours'|      Moderate|       LLB|                                  Yes|             2.0|             5.0|                              No|         1|\n",
            "|     83|               2| Not Graduate|          Yes|9900000|   21200000|       16|        363|                25500000|               11400000|           26600000|         6800000|   Rejected| 83|  Male|24.0|       Nagpur|   Student|              3.0|          0.0| 6.1|               3.0|             0.0|        '5-6 hours'|      Moderate|'Class 12'|                                  Yes|            11.0|             1.0|                             Yes|         1|\n",
            "|     91|               4|     Graduate|           No|5700000|   21100000|       18|        489|                  500000|                4300000|           12500000|         6000000|   Rejected| 91|  Male|33.0|     Vadodara|   Student|              3.0|          0.0|7.03|               4.0|             0.0|'Less than 5 hours'|       Healthy|        BE|                                  Yes|            10.0|             2.0|                             Yes|         0|\n",
            "|     94|               1|     Graduate|           No|1700000|    6400000|       10|        452|                  900000|                1100000|            5600000|         2100000|   Rejected| 94|  Male|27.0|       Kalyan|   Student|              5.0|          0.0|7.04|               1.0|             0.0|'Less than 5 hours'|      Moderate|    M.Tech|                                   No|            10.0|             1.0|                             Yes|         1|\n",
            "|    100|               0|     Graduate|           No|4400000|   10800000|       14|        463|                 2400000|                4800000|           13800000|         4700000|   Rejected|100|Female|19.0|       Rajkot|   Student|              2.0|          0.0|8.52|               4.0|             0.0|'Less than 5 hours'|     Unhealthy|'Class 12'|                                   No|             6.0|             2.0|                             Yes|         0|\n",
            "|    103|               2| Not Graduate|          Yes|4300000|   12900000|       20|        618|                11400000|                3600000|           11400000|         2400000|   Approved|103|Female|19.0|       Kalyan|   Student|              5.0|          0.0|5.64|               5.0|             0.0|'Less than 5 hours'|      Moderate|'Class 12'|                                  Yes|             4.0|             5.0|                             Yes|         1|\n",
            "|    106|               3| Not Graduate|          Yes|4200000|    9700000|       16|        841|                 7800000|                 300000|           16700000|         5100000|   Approved|106|  Male|29.0|     Srinagar|   Student|              3.0|          0.0|8.58|               3.0|             0.0|'More than 8 hours'|      Moderate|    M.Tech|                                  Yes|            10.0|             2.0|                             Yes|         1|\n",
            "|    120|               1| Not Graduate|          Yes|9100000|   32900000|        2|        717|                 2200000|                2000000|           23600000|         5900000|   Approved|120|  Male|25.0|       Nashik|   Student|              5.0|          0.0|6.51|               2.0|             0.0|'Less than 5 hours'|     Unhealthy|      M.Ed|                                  Yes|             2.0|             5.0|                             Yes|         1|\n",
            "|    132|               5|     Graduate|           No|8800000|   22600000|       10|        357|                 7900000|                8600000|           18200000|         4900000|   Rejected|132|Female|20.0|    Ahmedabad|   Student|              5.0|          0.0|7.25|               3.0|             0.0|        '5-6 hours'|       Healthy|'Class 12'|                                  Yes|            10.0|             3.0|                              No|         1|\n",
            "|    139|               3| Not Graduate|          Yes|2900000|    8500000|       12|        564|                 1000000|                3100000|            7500000|         1800000|   Approved|139|  Male|19.0|      Chennai|   Student|              2.0|          0.0|7.83|               2.0|             0.0|        '7-8 hours'|     Unhealthy|'Class 12'|                                   No|             6.0|             3.0|                              No|         0|\n",
            "|    145|               2|     Graduate|          Yes|8600000|   32100000|        6|        802|                 9400000|               16700000|           24500000|         9800000|   Approved|145|  Male|25.0|       Kalyan|   Student|              3.0|          0.0|9.93|               3.0|             0.0|        '5-6 hours'|      Moderate|      B.Ed|                                   No|             8.0|             3.0|                             Yes|         1|\n",
            "+-------+----------------+-------------+-------------+-------+-----------+---------+-----------+------------------------+-----------------------+-------------------+----------------+-----------+---+------+----+-------------+----------+-----------------+-------------+----+------------------+----------------+-------------------+--------------+----------+-------------------------------------+----------------+----------------+--------------------------------+----------+\n",
            "only showing top 20 rows\n",
            "\n"
          ]
        }
      ]
    },
    {
      "cell_type": "markdown",
      "source": [
        "# 8. Write Output to File or Table"
      ],
      "metadata": {
        "id": "VilF8yHU5-wI"
      }
    },
    {
      "cell_type": "code",
      "source": [
        "# Save to CSV\n",
        "df.write.csv(\"/content/loan_output_csv_v1\", header=True)"
      ],
      "metadata": {
        "id": "Bb7HY5s07G5f"
      },
      "execution_count": null,
      "outputs": []
    },
    {
      "cell_type": "code",
      "source": [
        "# Save to Parquet\n",
        "df.write.parquet(\"/content/loan_output_parquet_v1\")"
      ],
      "metadata": {
        "id": "SvD8N4XT7L2X"
      },
      "execution_count": null,
      "outputs": []
    },
    {
      "cell_type": "code",
      "source": [
        "# Save to Hive table (requires Hive support)\n",
        "df.write.mode(\"overwrite\").saveAsTable(\"loan_approval_table_v1\")"
      ],
      "metadata": {
        "id": "vVyYOk6a_Ohk"
      },
      "execution_count": null,
      "outputs": []
    },
    {
      "cell_type": "markdown",
      "source": [
        "#  9.SQL Queries Using Spark SQL\n",
        "# Convert a DataFrame to a SQL temporary view:"
      ],
      "metadata": {
        "id": "mJbkzHXp_kdy"
      }
    },
    {
      "cell_type": "code",
      "source": [
        "df.createOrReplaceTempView(\"people\")"
      ],
      "metadata": {
        "id": "COW4u46BAE2R"
      },
      "execution_count": null,
      "outputs": []
    },
    {
      "cell_type": "code",
      "source": [
        "df.show()"
      ],
      "metadata": {
        "colab": {
          "base_uri": "https://localhost:8080/"
        },
        "id": "v9kQMDmsA51B",
        "outputId": "4afbacbd-a613-4148-adaf-db169b22077f"
      },
      "execution_count": null,
      "outputs": [
        {
          "output_type": "stream",
          "name": "stdout",
          "text": [
            "+-------+----------------+-------------+-------------+-------+-----------+---------+-----------+------------------------+-----------------------+-------------------+----------------+-----------+\n",
            "|loan_id|no_of_dependents|    education|self_employed| salary|loan_amount|loan_term|cibil_score|residential_assets_value|commercial_assets_value|luxury_assets_value|bank_asset_value|loan_status|\n",
            "+-------+----------------+-------------+-------------+-------+-----------+---------+-----------+------------------------+-----------------------+-------------------+----------------+-----------+\n",
            "|      1|               2|     Graduate|           No|9600000|   29900000|       12|        778|                 2400000|               17600000|           22700000|         8000000|   Approved|\n",
            "|      2|               0| Not Graduate|          Yes|4100000|   12200000|        8|        417|                 2700000|                2200000|            8800000|         3300000|   Rejected|\n",
            "|      3|               3|     Graduate|           No|9100000|   29700000|       20|        506|                 7100000|                4500000|           33300000|        12800000|   Rejected|\n",
            "|      4|               3|     Graduate|           No|8200000|   30700000|        8|        467|                18200000|                3300000|           23300000|         7900000|   Rejected|\n",
            "|      5|               5| Not Graduate|          Yes|9800000|   24200000|       20|        382|                12400000|                8200000|           29400000|         5000000|   Rejected|\n",
            "|      6|               0|     Graduate|          Yes|4800000|   13500000|       10|        319|                 6800000|                8300000|           13700000|         5100000|   Rejected|\n",
            "|      7|               5|     Graduate|           No|8700000|   33000000|        4|        678|                22500000|               14800000|           29200000|         4300000|   Approved|\n",
            "|      8|               2|     Graduate|          Yes|5700000|   15000000|       20|        382|                13200000|                5700000|           11800000|         6000000|   Rejected|\n",
            "|      9|               0|     Graduate|          Yes| 800000|    2200000|       20|        782|                 1300000|                 800000|            2800000|          600000|   Approved|\n",
            "|     10|               5| Not Graduate|           No|1100000|    4300000|       10|        388|                 3200000|                1400000|            3300000|         1600000|   Rejected|\n",
            "|     11|               4|     Graduate|          Yes|2900000|   11200000|        2|        547|                 8100000|                4700000|            9500000|         3100000|   Approved|\n",
            "|     12|               2| Not Graduate|          Yes|6700000|   22700000|       18|        538|                15300000|                5800000|           20400000|         6400000|   Rejected|\n",
            "|     13|               3| Not Graduate|          Yes|5000000|   11600000|       16|        311|                 6400000|                9600000|           14600000|         4300000|   Rejected|\n",
            "|     14|               2|     Graduate|          Yes|9100000|   31500000|       14|        679|                10800000|               16600000|           20900000|         5000000|   Approved|\n",
            "|     15|               1| Not Graduate|           No|1900000|    7400000|        6|        469|                 1900000|                1200000|            5900000|         1900000|   Rejected|\n",
            "|     16|               5| Not Graduate|           No|4700000|   10700000|       10|        794|                 5700000|                3900000|           16400000|         4400000|   Approved|\n",
            "|     17|               2|     Graduate|          Yes| 500000|    1600000|        4|        663|                 1300000|                 100000|            1300000|          700000|   Approved|\n",
            "|     18|               4| Not Graduate|          Yes|2900000|    9400000|       14|        780|                 2900000|                2800000|            6700000|         4300000|   Approved|\n",
            "|     19|               2|     Graduate|           No|2700000|   10300000|       10|        736|                 1000000|                      0|            6200000|         3300000|   Approved|\n",
            "|     20|               5|     Graduate|           No|6300000|   14600000|       12|        652|                10300000|                3500000|           23500000|         5900000|   Approved|\n",
            "+-------+----------------+-------------+-------------+-------+-----------+---------+-----------+------------------------+-----------------------+-------------------+----------------+-----------+\n",
            "only showing top 20 rows\n",
            "\n"
          ]
        }
      ]
    },
    {
      "cell_type": "code",
      "source": [
        "#Run SQL queries:\n",
        "\n",
        "result = spark.sql(\"SELECT salary FROM people WHERE salary > 100000\")\n",
        "result.show()"
      ],
      "metadata": {
        "colab": {
          "base_uri": "https://localhost:8080/"
        },
        "id": "aqmjiZcSAKmE",
        "outputId": "2fc788f2-a4ed-47b1-9995-a70683f27b61"
      },
      "execution_count": null,
      "outputs": [
        {
          "output_type": "stream",
          "name": "stdout",
          "text": [
            "+-------+\n",
            "| salary|\n",
            "+-------+\n",
            "|9600000|\n",
            "|4100000|\n",
            "|9100000|\n",
            "|8200000|\n",
            "|9800000|\n",
            "|4800000|\n",
            "|8700000|\n",
            "|5700000|\n",
            "| 800000|\n",
            "|1100000|\n",
            "|2900000|\n",
            "|6700000|\n",
            "|5000000|\n",
            "|9100000|\n",
            "|1900000|\n",
            "|4700000|\n",
            "| 500000|\n",
            "|2900000|\n",
            "|2700000|\n",
            "|6300000|\n",
            "+-------+\n",
            "only showing top 20 rows\n",
            "\n"
          ]
        }
      ]
    },
    {
      "cell_type": "markdown",
      "source": [
        "# 10. Working with RDDs (Low-level API)\n",
        "\n",
        "# RDDs are the original Spark API (low-level). Not used as much anymore unless needed."
      ],
      "metadata": {
        "id": "jSkQyba6AaJS"
      }
    },
    {
      "cell_type": "code",
      "source": [
        "rdd = spark.sparkContext.parallelize([1, 2, 3, 4])\n",
        "squared = rdd.map(lambda x: x * x).collect()\n",
        "print(squared)\n",
        "\n",
        "#Use DataFrames instead when working with structured or semi-structured data — they are faster and easier to use."
      ],
      "metadata": {
        "colab": {
          "base_uri": "https://localhost:8080/"
        },
        "id": "Rgf_yS4-AlkA",
        "outputId": "3d241acb-fce9-4c2e-df1a-d3e46ab78c25"
      },
      "execution_count": null,
      "outputs": [
        {
          "output_type": "stream",
          "name": "stdout",
          "text": [
            "[1, 4, 9, 16]\n"
          ]
        }
      ]
    },
    {
      "cell_type": "code",
      "source": [],
      "metadata": {
        "id": "qmLXSguHAyuq"
      },
      "execution_count": null,
      "outputs": []
    }
  ]
}